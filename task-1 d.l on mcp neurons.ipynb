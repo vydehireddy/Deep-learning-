{
 "cells": [
  {
   "cell_type": "markdown",
   "id": "498800b2",
   "metadata": {},
   "source": [
    "* FUNCTION FOR MCP NEURONS USING AND ,OR OPERATOR"
   ]
  },
  {
   "cell_type": "code",
   "execution_count": 5,
   "id": "dfe6b769",
   "metadata": {},
   "outputs": [
    {
     "name": "stdout",
     "output_type": "stream",
     "text": [
      "AND output: 1\n",
      "OR output: 1\n"
     ]
    }
   ],
   "source": [
    "def mcp_neuron(inputs, weights, threshold):\n",
    "    # Check if the number of inputs and weights match\n",
    "    if len(inputs) != len(weights):\n",
    "        raise ValueError(\"Number of inputs and weights must be the same\")\n",
    "\n",
    "    # Calculate the weighted sum of inputs\n",
    "    weighted_sum = sum(x * w for x, w in zip(inputs, weights))\n",
    "\n",
    "    # Apply the threshold function\n",
    "    output = 1 if weighted_sum >= threshold else 0\n",
    "\n",
    "    return output\n",
    "\n",
    "\n",
    "def mcp_and_neuron(inputs):\n",
    "    weights = [1] * len(inputs)\n",
    "    threshold = len(inputs)\n",
    "    return mcp_neuron(inputs, weights, threshold)\n",
    "\n",
    "\n",
    "def mcp_or_neuron(inputs):\n",
    "    weights = [1] * len(inputs)\n",
    "    threshold = 1\n",
    "    return mcp_neuron(inputs, weights, threshold)\n",
    "\n",
    "\n",
    "# Example usage\n",
    "and_inputs = [1, 1]\n",
    "and_output = mcp_and_neuron(and_inputs)\n",
    "print(f\"AND output: {and_output}\")  # Output: 1\n",
    "\n",
    "or_inputs = [0, 1]\n",
    "or_output = mcp_or_neuron(or_inputs)\n",
    "print(f\"OR output: {or_output}\")  # Output: 1\n"
   ]
  },
  {
   "cell_type": "code",
   "execution_count": null,
   "id": "90b2bf96",
   "metadata": {},
   "outputs": [],
   "source": []
  }
 ],
 "metadata": {
  "kernelspec": {
   "display_name": "Python 3 (ipykernel)",
   "language": "python",
   "name": "python3"
  },
  "language_info": {
   "codemirror_mode": {
    "name": "ipython",
    "version": 3
   },
   "file_extension": ".py",
   "mimetype": "text/x-python",
   "name": "python",
   "nbconvert_exporter": "python",
   "pygments_lexer": "ipython3",
   "version": "3.10.9"
  }
 },
 "nbformat": 4,
 "nbformat_minor": 5
}
